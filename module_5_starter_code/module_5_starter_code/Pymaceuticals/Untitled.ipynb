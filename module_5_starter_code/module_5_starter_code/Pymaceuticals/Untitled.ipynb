{
 "cells": [
  {
   "cell_type": "code",
   "execution_count": 3,
   "id": "35d4f138",
   "metadata": {},
   "outputs": [],
   "source": [
    "import pandas as pd\n",
    "import numpy as np\n",
    "import sklearn.datasets as dta\n",
    "import scipy.stats as st\n",
    "import matplotlib.pyplot as plt\n",
    "from scipy.stats import sem"
   ]
  },
  {
   "cell_type": "code",
   "execution_count": 8,
   "id": "1b6f0904",
   "metadata": {},
   "outputs": [
    {
     "name": "stdout",
     "output_type": "stream",
     "text": [
      "      Name  Maths  English  Science\n",
      "0    Alice     80       70       75\n",
      "1      Bob     70       60       65\n",
      "2  Charlie     90       85       80\n",
      "3    David     65       80       85\n",
      "4    Emily     75       90       95\n"
     ]
    },
    {
     "data": {
      "text/plain": [
       "Name       Charlie\n",
       "Maths           90\n",
       "English         85\n",
       "Science         80\n",
       "Name: 2, dtype: object"
      ]
     },
     "execution_count": 8,
     "metadata": {},
     "output_type": "execute_result"
    }
   ],
   "source": [
    "data = {'Name': ['Alice', 'Bob', 'Charlie', 'David', 'Emily'],\n",
    "        'Maths': [80, 70, 90, 65, 75],\n",
    "        'English': [70, 60, 85, 80, 90],\n",
    "        'Science': [75, 65, 80, 85, 95]}\n",
    "df = pd.DataFrame(data)\n",
    "print(df)\n",
    "# Select a row as a Pandas Series\n",
    "row = df.loc[2, :]\n",
    "row\n",
    "\n",
    "# # Use the plot.bar() method to create the chart\n",
    "# row.plot.bar()\n",
    "\n",
    "# # Set the title and axis labels\n",
    "# plt.title('Charlie\\'s Scores')\n",
    "# plt.xlabel('Subject')\n",
    "# plt.ylabel('Score')\n",
    "\n",
    "# # Display the plot\n",
    "# plt.show()\n",
    "# # In this example, we first create a DataFrame df with some data. We then select the third row (index 2) as a Pandas Series row. We then call the plot.bar() method on the series object to create a column chart of the data. Finally, we add a title and axis labels to the chart using plt.title(), plt.xlabel(), and plt.ylabel(), and display the chart using plt.show().\n",
    "\n",
    "# # You can customize the chart by passing parameters to the plot.bar() method. For example, you can change the color of the bars by passing a color parameter:\n",
    "\n",
    "# # python\n",
    "# # Copy code\n",
    "# row.plot.bar(color='red')\n",
    "# This will change the color of the bars to red."
   ]
  }
 ],
 "metadata": {
  "kernelspec": {
   "display_name": "Python 3 (ipykernel)",
   "language": "python",
   "name": "python3"
  },
  "language_info": {
   "codemirror_mode": {
    "name": "ipython",
    "version": 3
   },
   "file_extension": ".py",
   "mimetype": "text/x-python",
   "name": "python",
   "nbconvert_exporter": "python",
   "pygments_lexer": "ipython3",
   "version": "3.9.13"
  }
 },
 "nbformat": 4,
 "nbformat_minor": 5
}
